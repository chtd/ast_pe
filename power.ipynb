{
 "metadata": {
  "name": "power"
 },
 "nbformat": 3,
 "nbformat_minor": 0,
 "worksheets": [
  {
   "cells": [
    {
     "cell_type": "code",
     "collapsed": false,
     "input": [
      "from ast_pe.decorators import inline\n",
      "\n",
      "@inline                                                                \n",
      "def power(x, n):                                                       \n",
      "    if not isinstance(n, int) or n < 0:                                \n",
      "        raise ValueError('Base should be a positive integer')          \n",
      "    elif n == 0:                                                       \n",
      "        return 1                                                       \n",
      "    elif n % 2 == 0:                                                   \n",
      "        v = power(x, n / 2)                                            \n",
      "        return v * v                                                   \n",
      "    else:                                                              \n",
      "        return x * power(x, n - 1) "
     ],
     "language": "python",
     "metadata": {},
     "outputs": []
    },
    {
     "cell_type": "code",
     "collapsed": false,
     "input": [
      "power(3, 27)"
     ],
     "language": "python",
     "metadata": {},
     "outputs": []
    },
    {
     "cell_type": "code",
     "collapsed": false,
     "input": [
      "from ast_pe import specialized_fn\n",
      "PRINT_AST = True\n",
      "\n",
      "power_27 = specialized_fn(power, globals(), locals(), n=27)"
     ],
     "language": "python",
     "metadata": {},
     "outputs": []
    },
    {
     "cell_type": "code",
     "collapsed": false,
     "input": [
      "power_27(3)"
     ],
     "language": "python",
     "metadata": {},
     "outputs": []
    },
    {
     "cell_type": "code",
     "collapsed": false,
     "input": [],
     "language": "python",
     "metadata": {},
     "outputs": []
    }
   ],
   "metadata": {}
  }
 ]
}